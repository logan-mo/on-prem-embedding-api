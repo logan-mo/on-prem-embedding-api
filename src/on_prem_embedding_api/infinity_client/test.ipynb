{
 "cells": [
  {
   "cell_type": "code",
   "execution_count": null,
   "metadata": {},
   "outputs": [],
   "source": [
    "!sudo docker run -p 7997:7997 --gpus all -v $PWD/data:/app/.cache michaelf34/infinity:0.0.69-trt-onnx v2 --model-id dunzhang/stella_en_1.5B_v5 --batch-size 16 --device cuda --engine torch --port 7997"
   ]
  },
  {
   "cell_type": "code",
   "execution_count": null,
   "metadata": {},
   "outputs": [],
   "source": [
    "!pip install infinity_client"
   ]
  },
  {
   "cell_type": "code",
   "execution_count": 9,
   "metadata": {},
   "outputs": [],
   "source": [
    "case_description = \"\"\"P L D 2005 Supreme Court 977\n",
    "  Present: Sardar Muhammad Raza Khan and Muhammad Nawaz Abbasi, JJ\n",
    "  Civil Petition No.424 of 2004\n",
    "  FAZAL SUBHAN and 11 others---Petitioners\n",
    "  Versus\n",
    "  Mst. SAHIB JAMALA and others---Respondents\n",
    "  (On appeal from the judgment of Peshawar High Court, Peshawar, dated 20-1-2004 passed in CRs.379 and 393 of 2003)..\n",
    "  Civil Petition No.528 of 2004\n",
    "  Mst. SAHIB JAMALA---Petitioner\n",
    "  Versus\n",
    "  FAZAL SUBHAN and 11 others---Respondents\n",
    "(On appeal from the judgment of Peshawar High Court, Peshawar, dated 20-1-2004 passed in C.Rs. No.379 and 393 of 2003).\n",
    "  Civil Petitions Nos. 424 and 528 of 2004, heard on 18th May, 2005.\n",
    "  Per Muhammad Nawaz Abbasi, J; Sardar Muhammad Raza Khan, j agreeing---\n",
    "  (a) North-West Frontier Province Pre-emption Act (X of 1987)---\n",
    "  ----S. 13---Right of pre-emption ---Provisions of S.13, Punjab Pre-emption Act, 1913 are based oft the concept of Talbs which are recognized as rule of. Islamic Law of Pre-emption ---Fulfillment of requirement of Talbs is essential for exercise of.right of pre-emption and without Talb-e-Muwathibat and Talb-e-Ishhad, right of Talb-e-Khushamat is extinguished.\n",
    "(b) North-West Frontier Province Pre-emption Act (X of 1987)---\n",
    "  ----S. 13---Suit for right of pre-emption ---Manner of performance of Talbs for exercise of right of pre-emption ---Where _Talb-i-Muwathibat was made beyond the period of two weeks from the date of transaction of sale, it would be essential for the pre-emptor to disclose the specific date of his knowledge and place of Majlis in which he made Talbb-e-Muwathibat, failing which neither Talb-e-Muwathibat nor Talb-e-Ishhad would be proved---Principles elucidated.\n",
    "  Per Sardar Muhammad Raza Khan, J. agreeing with Muhammad Nawaz Ahbasi, J.---\n",
    "  (c) North-West Frontier Province Pre-emption Act (X of 1987)---\n",
    "  ----S. 13---Civil Procedure Code (V of 1908), O.VI, Rr.2 & 4---Right of pre-emption ---Pleadings ---Detailed particulars of Talb-e-Muwathibat are necessary to be mentioned in the, plaint under O.VI, Rr.2 & 4, C.P.C. which require every pleading to contain only the material facts on which the claim or defence is made ---Talb-i-Muwathibat is peculiar in its nature and explains that said Talb is to be performed in a Ma.ilis where the information of sale transaction was disclosed to the prospective pre emptor---Phenomenon of Talb-i-Muwathibat carries essentially the clement of limitation, mentioning of date and time of the disclosure of information is thus absolutely necessary and the Talb has to be made before the dispersal of Majlis---Existence of Majlis being most material fact related to the performance of Talb-i-Muwathibat, the constituents of the Majlis are also necessarily to be mentioned---Such constituents of Majlis are nothing but the members thereof who ultimately are the witnesses to the Talb-i-Muwathibat---Peculiar nature of Talb-i-Muwathibat requires that where the description of Majlis is of utmost importance, the members of such Majlis, who are the witnesses to such Talbs, are necessary to he mentioned in the plaint---When concerned with the question of limitation as well as the description of Majlis, the detailed particulars become necessary to be mentioned in the pleadings---Such exceptional cases are covered by O.VI, R.4, C.P.C.\n",
    "  Noor Muhammad v. Abdul Ghani 2000 SCMR 329 and Altaf Hussain's case 2000 SCMR 314 distinguished.\n",
    "  Abdul Qayum through Legal Heirs v. Mushk-e-Alam and another 2001 SCMR 798; Zarghoon Shah through his Legal Heirs v. Muhammad Yaqoob Khan Civil Appeal No.560 of 1995; Said Kamal's case PLD 1986 SC 360; Noor Muhammad v. Abdul Ghani 2000 SCMR 329; Haji Muham read Saleem v. Khuda Bakhsh PLD 2003 SC 315; Muhammad Siddique v. Muhammad Sharif 2005 SCMR 1231; Abdul Qayyum Khan v. Musa Khan 1995 CLC 729 and Shafi Muhammad v. Hazar Khan 1996 SCMR 346 ref.\n",
    "  Gulzarin Kiani, Advocate Supreme Court and M.S. Khattak, Advocate-on-Record for Petitioners (in C.P. No.424 of 2004).\n",
    "  Abdul Aziz Kundi, Advocate-on-Record for Respondent (in C.P. No.424 of 2004).\n",
    "  Abdul Aziz Kundi, Advocate Supreme Court/Advocate-on-Record for Petitioners (in C.P. No.528 of 2004)\n",
    "  Gulzarin Kiani, Advocate Supreme Court and M.S. Khattak, Advocate on-Record for Respondents (in C.P. No.528 of 2004).\n",
    "  Date of hearing: 18th May, 2005.\n",
    "  JUDGMENT\n",
    "  MUHAMMAD NAWAZ ABBASI, J.---These two petitions filed under Article 185 (3) of the Constitution of Islamic Republic of Pakistan involving common question of law -and facts, have been directed against the judgment dated 20-1-2004 passed by a learned Judge in chambers of Peshawar High Court in two connected civil revisions arising out of suit for pre-eruption.\n",
    "  2. The brief facts in the background are that land measuring 40 kanals situated in revenue estate Nari Tehsil Takhat Bhai District Mardan, was sold by Khalid Khan vide mutation dated 29-1-1990 to the predecessor-in-interest of petitioners in C.P. 424 of 2004 (hereinafter to be referred to as 'the petitioner') for a consideration of purpose seven Lacs and sale was pre-empted by Haji Fazalur Rehman, predecessor-in -interest of respondent in the above petition (hereinafter to be called 'the respondent'). The suit was resisted by the petitioners on various grounds and the main attack was that Talb-e-Muwathibat and Talb-e-Ishhad were not fulfilled in accordance with law. The learned trial Judge dismissed the suit vide judgment dated 9-10-2002 but in appeal preferred by Mst. Sahib Jamala, respondent herein, a learned Additional District Judge, Mardan, camp at Takht Bhai, while reversing the findings of the trial Court on the pivotal issues, decreed the suit vide judgment dated 18-4-2003. The cross-revision petitions filed by the parties before the High Court were disposed of vide a consolidated judgment whereby the revision petition filed by the petitioners was dismissed_ and the revision filed by respondent was allowed.\n",
    "  3. Learned counsel for the petitioners while challenging the concurrent findings of facts on various issues, concentrated on the fundamental question relating to the performance of Talbs and' consequently, we deem it proper to decide this basic question at the first instance and the decision of remaining issues would depend upon the decision of this basic issue. Learned counsel for the petitioners contended that Talb-e-Muwathibat was proved through oral evidence whereas the requirement of Talb-e-Ishhad was proved through the documentary evidence and to prove the performance of Talbs with reference to the specific date and time of place as was held by this Court, was not necessary. The learned counsel has placed reliance on Noor Muhammad v. Abdul Ghani (2000 SCMR 329).\n",
    "  4. Learned counsel for the respondent, on the other hand, in the light of the view taken by this Court in Abdul Qayum through legal heirs v. Mushke-e-Alain and another (2001 SCMR 798) and in an unreported judgment given in Civil Appeal No.560 of 1995 (Zarghoon Shah (deceased) through his L.Rs. v. Muhammad Yaqoob Khan) decided on 26-6-1998, contended that in a suit for pre-emption, in similar circumstances, it was held that the requirement of making Talb-e-Muwathibat without specifying the date and place as well as the meeting in which announcement for exercising the right of pre-emption, was not proved. The pre-emptor in the present case placing reliance on the sole statement of Fazal Qadir (P.W.6), claimed performance of Talb-e-Muwathibat and according to this witness, on 8-8-1990 when he was on his way to the village of Haji Fazalur Rehman (plaintiff) Wahid Khan (vendor) told him about the sale and he informed this fact to Haji Fazalur Rehman on the same day at his Dera in presence of Nawab and Fazal. In cross examination, he stated that Khalid Khan, vendor, also told him that sale was already in the knowledge of Haji Fazalur Rehman. The High Court having treated the statement of this witness, as admission of there-emptor in terms of Articles 30 to 36 of Qanun-e-Shahadat, 1984 held that the statement made by a witness against the interest of the party which produced him is although binding on such party but the substantive right of the parties must not be decided on the basis of only such an inconclusive admission and the lis must- be decided in the light of whole evidence. The conclusion drawn by the learned Judge in the High Court was that from the evidence on record, it was sufficiently established that the Talbs were performed in accordance with the requirement of Section 13 of N.-W.F.P. Pre-emption Act, 1987 and upheld the findings of the appellate Court with the observation that performance of Talbe-e-Ishhad was not disputed whereas the fulfillment of the requirement of Tatb-e-Muwathibat about a week ago, was mentioned in the notice of Talb-e-Ishhad, therefore, the missing of specific date of making Talb-e-Muwathibat in the plaint or in the evidence was not fatal.\n",
    "  5. Having considered the argument of the learned counsel for the parties perused the record with their assistance, we in the light of the views of this Court in the above referred judgments, regarding the manner of performance of Talbs for exercise of right of pre-emption, deem it proper to examine they provisions of Section 13 of N.-W.F.P. Pre-emption Act, 1987:--\n",
    "  \"13. Demand of pre-emption.---(1) The right of pre-emption of a person shall be extinguished unless such person makes demands of pre-emption in the following order, namely:--\n",
    "  (a) Talb-e-Muwathibat;\n",
    "  (b) Talb-e-Ishhad; and\n",
    "  (c) Talb-e-Khusumat\n",
    "  Explanations:\n",
    "  I. \"Talb-e-Muwathibat\" means immediate demand by a pre-emptor in the sitting or meeting (Majlis) in which he has come to know of the sale declaring his intention to exercise the right of pre-emption.\n",
    "  Notice.---Any words indicative of intention to exercise the right of pre-emption are sufficient.\n",
    "  II. \"Talb-e-Ishhad\" means demand by establishing evidence,\n",
    "  III. \"Talb-e-Khusumat\" means demand by filing a suit.\n",
    "  (2) When the fact of sale comes within the knowledge of a pre-emptor through any source, he shall make Talb-I-Muwathibat.\n",
    "  (3) Where a pre-emptor has made Talb-e-Muwathibat under subsection (2), he shall as soon thereafter as possible but not later than two weeks from the date of notice under section 34, or knowledge, whichever may be earlier, make Talb-e-Ishhad by sending a notice in writing attested by two truthful witnesses, under registered cover acknowledgement due to the vendee, confirming his intention to exercise the right of pre-emption:\n",
    "  Provided that in areas where due to lack of post office facilities it is not possible for the pre-emptor to give registered notice, he may make Talb-e-Ishhad in the presence of two truthful witnesses.\n",
    "  (4) Where a pre-emptor has satisfied the requirements of Talb-e-Muwathibat under subsection (2) and Talb-e-Ishhad under subsection (3), he shall make Talb-i-Khusumat in the Court of competent jurisdiction to enforce his right of pre-emption.\"\n",
    "  6. There was general law of pre-emption in practice in they Provinces of Punjab and N.-W.F.P. prior to the enforcement of Punjab Pre-emption Act, 1913, and N.-W.F.P. Pre-emption Act, 1959, according to which the requirement of Talbs for exercise of right of pre-emption was essential and Talb-e-Muwathibat was to be made immediately on acquiring the knowledge of the sale failing which the pre-emptor would loose right of pre-emption. The purpose was that the pre-emptor must exercise the right of pre-emption in strict compliance of the requirement of Talbs and must not be encouraged to defeat sale and the existing law is almost based on the same concept.\n",
    "  7. The perusal of the notice, (Exh.p-7), dates 15-8-1990 of Talb-e-Ishhad would show that performance of Talb-e-Muwathibat was made a week ago in presence of witnesses whereas in the plaint, the performance of Talb-e-Muwathibat was claimed in general terms without specifying the date, place or the meeting in which the announcement was made for exercise of right of pre-emption. The provisions of section 13 of N.-W.F.P. Pre-emption Act, 1987 are based on the concept of Talbs which are recognized as the rule of Islamic Law of pre-emption according to which for exercise of right of pre-emption, fulfillment of requirement of Talbs is essential and without performance of Talb-e-Muwathibat and Talb-e-Ishhad, right of Ta:b-e-Khusumat is extinguished. The existing law of pre-emption is not, different to that of the above concept of Islamic Law of Pre-emption because N.-W.F.P. Pre-emption Act, 1987 was enacted in the light of the judgment in Said Kamal's case (PLD 1986 SC 360) wherein the old N.-W.F.P. Pre-emption Act, 1950 was declared repugnant to the Injunctions of Islam.\n",
    "  8. This is settled law that pleading of a parry is based on the statement of facts given therein which arc proved by producing evidence at the trial and in that the names of witnesses and gist of evidence is not required to be given in the plaint or written statement as it is not part of pleadings rather pleading is contained only on material facts. This general principle of law of pleadings is applicable to all suits and no exception can be taken in the suit for pre-emption and consequently, according to the general principle, the performance of Talb-e-Muwathibat and Talb-e-Ishhad must be specifically pleaded in the plaint by giving the date and the place of its making without giving the gist of evidence and the names of witnesses. Talb-e-Muwathibat is the first Talb for exercise of right of pre-emption and without performance of Talb-e- Muwathibat, the performance of Talb-e-Ishhad is meaningless to maintain the suit. The second Talb is Talb-e-Ishhad which is based on the performance of Talb-e-Muwathibat and a pre-emptor who has not been able to prove performance of Talb-e-Muwathibat, cannot succeed in the suit merely on the basis of proving Talb-e-Ishhad and the settled law is that a fact which is not pleaded in the plaint, cannot be allowed to be proved through evidence. In the present case, the pre-emptor in general terms claimed performance of Talb-e-Muwathibat in the notice of Talb-e-Ishhad on the basis of information conveyed to him by (P. W.6) without disclosing the place and the date on which he on coming to know about the sale made Talb-e-Muwathibat. The sale took place on 29-1-1990 and notice of Talb-e-Ishhad was given on 15-8-1990 wherein the making of Talb-e-Muwathibat was claimed a week before the issue of notice of Talb-e-Ishhad, therefore, the sole question for determination would be whether requirement of Talb-c-Muwathibat without giving the date, time and place in the plaint along with the names of persons who were present in the majlis in which the announcement was made for filing the suit for pre-emption was fulfilled. The disclosure of the fact relating to the performance of Talbs is pure question of fact and in the plaint it would be sufficient to disclose the performance of both Talb-e-Muwathibat and Talb-e-Ishhad to exercise the right of pre-emption and determination of the ancillary question for the purpose of establishing such right but the performance of Talbs must be proved through the reliable evidence. This Court in Noor Muhammad v. Abdul Ghani 2000 SCMR 329 decided by a Bench comprising of five learned Judges, has held that mentioning of time, date and place or names of witnesses in whose presence Talb-e-Muwathibat was made, was not necessary requirement of law to establish performance of Talb-e-Muwathibat whereas in a subsequent case Muhammad Salccm v. Khuda Bakhsh PLD 2003 SC 315 dF,;ided by a Bench of three learned Judges, it was held that right of pre-emption was not activated unless Talb-e-Muwathibat was performed specifying the date and time in the pleadings for the reasons that time for performing Talb-c-Ishhad was to be counted from the date of Talb-e-Muwathibat. In another judgment or this Court Muhammad. Siddique v. Muhammad Sharif 2005 SCMR 1231, it was reiterated that it the proof regarding date, time and place of snaking Talb-e-Muwathibat and acquiring knowledge by the plaintiff about the transaction of sale is given in general terms, performance of Talb-e-Muwathibat and Talb-e-Ishhad is not satisfied. The subsequent view taken by the different Benches of this Court on the face of it appears to be in conflict to that of the earlier judgment given by a Bench of five Judges and in the light of rule of propriety the judgment rendered by a larger Bench is given preference but we having perused the judgments, referred above, find that in principle, there was no difference of opinion on the question of law rather the legal position with reference to the peculiar facts of the each case, was discussed in different manner. There can be no cavil to the proposition that each material fact is not required to be given in pleadings and similarly, the names of witnesses or gist of evidence is also not required to be mentioned in the plaint but the basic facts which are considered the foundation of the case of party, must be disclosed in C the plaint. This is settled law that a fact which was not disclosed in the pleadings, cannot be subsequently allowed to be proved and thus if a party wants to prove a particular fact which was not pleaded, cannot be permitted to lead evidence on such fact for the reason that second party could not set up his case in rebuttal in the written statement. In Noor Muhammad v. Abdul Ghani 2000 SCMR 329 the plaintiff pleaded performance of Talb-e-Muwathibat in the plaint without giving time and place of making this Talb and in the subsequent judgment, Talb-e-Muwathibat was also pleaded in general terms, therefore, it was observed that without proving Talb-e-Muwathibat which was foundation of the case of pre-emptor right of pre-emption could not be exercised. It is the requirement of law to make Talb-e-Ishhad within two weeks from the date of making Talb-e-Muwathibat and if making of Talb-e-Muwathibat is not satisfactorily proved the making of Talb-e-Ishhad within the specified time cannot be proved and in consequence thereto the right of pre-emption is defeated. The principle laid down in the first case referred above, would definitely be applicable to a case in which Talb-e-Muwathibat is made immediately after the sale and Talb-e-Ishhad is made within two weeks from the date of sale. In such a case, only reference of Talb-e-Muwathibat in the notice of Talb-e-Ishhad and in the plaint, -would be sufficient but in a case in which the pre-emptor having claimed to acquire the knowledge of sale beyond the date of sale pleaded making of Talb-e- Muwathibat in general terms without specifying date and other necessary particulars Talb-e-Muwathibat, this basic condition for exercising the right of pre-emption would remain unproved. hi such situation, it would be essential for the pre-emptor to prove the correct date -of knowledge and the place of meeting in which he announced for the exercise of right of pre-emption. The performance of Talb-e-Ishhad is the second Talb, the fulfillment of which depends upon the presence of Talb-e-Muwathibat and unless the date and place of making Talb-e-Muwathibat is specifically mentioned in the plaint or proved through the evidence, the performance of Talb-e-Ishhad cannot be claimed to have been proved in terms of section 13(3) of the ibid Act. Talb-e-Muwathibat in terms of section 13 means the immediate demand by a pre-emptor in the sitting or a meeting (majlis) in which he has come to know about the sale and declared intention for exercise of right of pre-emption and Talb e-Ishhad is second Talb which is essentially performed within two weeks from the date of performance of Talb-e-Muwathibat. The explanation to subsection (1) of section 13 provides that requirement of disclosing particulars of majlis is essential and without proving the date, time and place of meeting, it would not be ascertainable that when and in which majlis and in whose presence, pre-emptor made announcement for exercising the 'right of pre-emption. In nutshell, in a case in which Talb e-Muwathibat was made beyond the period of two weeks from the date of transaction of the sale, it would be essential for the pre-emptor to disclose the specific date of his knowledge and place of majlis in which D he made Talb-e-Muwathibat, failing which neither Talb-e-Muwathibat nor Talb-e-Ishhad would be proved. In the present case, there is nothing in the evidence that on which particular date, the pre-emptor acquired the knowledge of transaction as Fazal Qadir (P.W.6) who claimed to have conveyed the information of sale to the pre-emptor on 8-8-1990, has clearly stated in cross examination that pre-emptor was already in the knowledge of sale whereas the pre-emptor asserted that he on coming to know about the sale on 8-8-1990 through Abdul Qadir (P.W.6), there and then made Talb-e-Muwathibat. In these circumstances, the claim of pre-emptor that he had no prior knowledge of sale and made Talb-e-Muwathibat on the information given to him by Abdul Qadir, would not be proved in the entire satisfaction of the requirement of law. Therefore, the presumption would be that pre-emptor-had the knowledge of sale before making the announcement for exercising the right of pre-emption. The statement of a witness on a fact contrary to the pleading of the party which produced him in the Court, is not as such an admission of that party on such fact but the statement of such witness would be binding on such party. In the present case, we find that Fazal Qadir (P.W.6) has clearly stated that prior to his conveying the information to the pre-emptor about the sale, he had already information about the transaction and thus the pre-emptor having not re-examined the witness, impliedly conceded the knowledge of sale prior to 8-8-1990. In these circumstances, the petitioners -pre-emptor cannot get benefit of judgment rendered in Noor Muhammad v. Abdul Ghani 2000 SCMR 329.\n",
    "  11. In the light of foregoing discussion, we convert C.P. No.424 of 2004 into appeal, set aside the judgment of the High Court and restore that of trial Court. The appeal stands- allowed with no order as to costs. C.P. No.528 of 2004 is dismissed accordingly and leave is refused.\n",
    "  (Sd.)\n",
    "  Muhammad Nawaz Abbasi, J.\n",
    "  I agree but with separate note added.\n",
    "  (Sd.)\n",
    "  Sardar Muhammad Raza Khan, J\n",
    "  SARDAR MUHAMMAD RAZA KHAN, J.---While agreeing with the conclusion drawn by my learned brother honourable Mr. Justice Muhammad Nawaz Abbasi, I would dilate upon the question whether to mention the details of Talb-e-Muwathibat in the plaint or not.\n",
    "  2. The debate on this question started with a judgment of a Division Bench of Peshawar High Court reported as Abdul Qayyum Khan v. Musa Khan 1995 CLC 729 decided on 5-12-1994 where it was held that the details of Talb-e-Muwathibat like time, place and the persons before whom such Talb is made, are necessary to be mentioned in the plaint. Soon thereafter similar view was taken by the Supreme Court in Shari Muhammad v. Hazar Khan 1996 SCMR 346 where it was categorically held that the mention of any of the particulars which required to be disclosed in connection with Talb-e-Muwathibat and Talb i-Ishhad, was necessary to be made in the plaint. The particulars required to be disclosed obviously were the same which were determined in the judgment of the Peshawar High Court in case of Abdul Qayyum Khan (supra).\n",
    "  3. Thereafter various Benches of this Court had different view until a larger Bench Judgment in Altar Hussain's case 2000 SCMR 314 wherein it was held that a plaintiff could not be non-suited on the ground that date, time and place were not specifically pleaded in the plaint. This judgment, no doubt of a larger Bench, was again distinguished by this Court in Haji Muhammad Saleem v. Khuda Bukhsh PLD 2003 SC 315 on the main ground, inter alia, that a most important aspect of limitation attached to Talb-i-Muwathibat was not considered by the larger Bench and had it been considered, the conclusion would have been different altogether. The aforesaid view of a full Bench or this Court was further reiterated in Akbar Ali Khan's case PLJ 2005 SC 844 rendered by another Bench of three Judges.\n",
    "  4. Apart from limitation involved in the mater or Talb-e-Muwathibat, I may refer even with reference to Order VI, Rule 2 of the E C.P.C. that the detailed particulars of Talb-i-Muwathibat are necessary to be mentioned in the plaint even under Order VI, Rule 2 and rule 4 of the C.P.C. For convenience of reference, Order VI, Rule 2 is reproduced:\n",
    "  \"2. Pleading to state material facts and not evidence --Every pleading shall contain, and contain only, a statement in a concise form of the material facts on which the party pleading relies for his claim or defence, as the case may be, but not the evidence by which they are to be proved and shall, when necessary, be divided into paragraphs, numbered consecutively. Dates, sums and numbers shall be expressed in figures.\"\n",
    "  5. The rule aforesaid requires every pleading to contain only the material facts on which the claim or defence is made. In the matter under discussion the material fact is Talb-i-Muwathibat. This Talb is peculiar in its nature and explains that Talb-i-Muwathibat is to be performed in a Majlis where the information of sale transaction was disclosed to the prospective pre-emptor. As the phenomenon of Talb-i-Muwathibat carries essentially the element of limitation, mentioning of date and time of the disclosure of information is absolutely necessary. It is again necessary because Talb has to be made before the dispersal of Majlis.\n",
    "  6. As the existence of a Majlis is a most material fact related to the performance of Talb-i-Muwathibat; the constituents of the Majlis are also necessarily to be mentioned. Such constituents of Majlis are nothing but the members thereof who ultimately are the witnesses to the Talb-i-Muwathibat. Keeping in view the peculiar nature of Talb-i-Muwathibat where the description of Majlis is of utmost importance, the members of such Majlis who are obviously the witnesses to such Talbs, are necessary to be mentioned in the plaint.\n",
    "  7. When concerned with the question or limitation as well as with the description of Majlis, the detailed particulars become necessary to be mentioned in the pleadings. Such exceptional cases are covered by Order VI, Rule 4 of the C.P.C. as follows:--\n",
    "  \"4. Particulars to be given where necessary:--In all cases in which the party pleading relies on any misrepresentation, fraud, breach of trust, wilful default, or undue influence, and in all other cases in which particulars may be necessary beyond such as are exemplified in the forms aforesaid, particulars (with dates and items if necessary) shall be stated in the pleading.\"\n",
    "  8. I am, once again of the view that all such matters concerning, limitation as well as order VI, rules 2 and 4, C.P.C. were not attended to by the larger Bench. I believe that on such grounds the subsequent full Benches in cases referred to above have amicably distinguished the decision given by the larger Bench. With these remarks, however, I agree with the conclusion drawn in the instant case by my learned brother.\n",
    "  (Sd.)\n",
    "Sardar Muhammad Raza Khan, J.\n",
    "  M.B.A./F-39/S Order accordingly.\"\"\""
   ]
  },
  {
   "cell_type": "code",
   "execution_count": 15,
   "metadata": {},
   "outputs": [
    {
     "name": "stdout",
     "output_type": "stream",
     "text": [
      "0:00:28.969776\n",
      "35.714285714285715\n"
     ]
    }
   ],
   "source": [
    "from openai import OpenAI # pip install openai==1.51.0\n",
    "from datetime import datetime\n",
    "client = OpenAI(base_url=\"http://localhost:7997/\", api_key=\"empty\")\n",
    "\n",
    "\n",
    "\n",
    "data = [case_description]*1000\n",
    "\n",
    "start = datetime.now()\n",
    "\n",
    "client.embeddings.create(\n",
    "    model=\"dunzhang/stella_en_1.5B_v5\",\n",
    "    input=data,\n",
    "    encoding_format=\"base64\", # base64: optional high performance setting\n",
    ")\n",
    "total_time_taken = datetime.now() - start\n",
    "embeddings_per_second =  len(data) / total_time_taken.seconds\n",
    "print(total_time_taken)\n",
    "print(embeddings_per_second)"
   ]
  },
  {
   "cell_type": "code",
   "execution_count": 19,
   "metadata": {},
   "outputs": [
    {
     "data": {
      "text/plain": [
       "14.0"
      ]
     },
     "execution_count": 19,
     "metadata": {},
     "output_type": "execute_result"
    }
   ],
   "source": [
    "((180000 * 10) / embeddings_per_second) / 60 / 60"
   ]
  },
  {
   "cell_type": "code",
   "execution_count": 20,
   "metadata": {},
   "outputs": [
    {
     "data": {
      "text/plain": [
       "336"
      ]
     },
     "execution_count": 20,
     "metadata": {},
     "output_type": "execute_result"
    }
   ],
   "source": [
    "2 * 7 * 24"
   ]
  },
  {
   "cell_type": "code",
   "execution_count": 21,
   "metadata": {},
   "outputs": [
    {
     "data": {
      "text/plain": [
       "24.0"
      ]
     },
     "execution_count": 21,
     "metadata": {},
     "output_type": "execute_result"
    }
   ],
   "source": [
    "336 / 14"
   ]
  },
  {
   "cell_type": "code",
   "execution_count": 24,
   "metadata": {},
   "outputs": [
    {
     "data": {
      "text/plain": [
       "4.166666666666667"
      ]
     },
     "execution_count": 24,
     "metadata": {},
     "output_type": "execute_result"
    }
   ],
   "source": [
    "100 * 14 / 336"
   ]
  },
  {
   "cell_type": "code",
   "execution_count": null,
   "metadata": {},
   "outputs": [],
   "source": []
  }
 ],
 "metadata": {
  "kernelspec": {
   "display_name": ".venv",
   "language": "python",
   "name": "python3"
  },
  "language_info": {
   "codemirror_mode": {
    "name": "ipython",
    "version": 3
   },
   "file_extension": ".py",
   "mimetype": "text/x-python",
   "name": "python",
   "nbconvert_exporter": "python",
   "pygments_lexer": "ipython3",
   "version": "3.11.11"
  }
 },
 "nbformat": 4,
 "nbformat_minor": 2
}
